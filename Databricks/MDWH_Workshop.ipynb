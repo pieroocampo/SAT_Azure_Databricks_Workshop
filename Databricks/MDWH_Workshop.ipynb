{
 "cells": [
  {
   "cell_type": "markdown",
   "metadata": {
    "application/vnd.databricks.v1+cell": {
     "cellMetadata": {
      "byteLimit": 2048000,
      "rowLimit": 10000
     },
     "inputWidgets": {},
     "nuid": "f23b1005-ae33-415d-91ac-f9aa3b582f6d",
     "showTitle": false,
     "tableResultSettingsMap": {},
     "title": ""
    }
   },
   "source": [
    "#Configuraciones\n"
   ]
  },
  {
   "cell_type": "code",
   "execution_count": 0,
   "metadata": {
    "application/vnd.databricks.v1+cell": {
     "cellMetadata": {
      "byteLimit": 2048000,
      "rowLimit": 10000
     },
     "inputWidgets": {},
     "nuid": "e230b547-2f99-40fb-9157-a805a20220fe",
     "showTitle": false,
     "tableResultSettingsMap": {},
     "title": ""
    }
   },
   "outputs": [],
   "source": [
    "from pyspark.sql.functions import *;\n",
    "from pyspark.sql.types import *;\n",
    "from array import array;\n",
    "\n",
    "catalogo = \"INAH\"\n",
    "\n",
    "db_plata = \"INAH_PLATA\" \n",
    "db_oro = \"INAH_ORO\""
   ]
  },
  {
   "cell_type": "code",
   "execution_count": 0,
   "metadata": {
    "application/vnd.databricks.v1+cell": {
     "cellMetadata": {
      "byteLimit": 2048000,
      "implicitDf": true,
      "rowLimit": 10000
     },
     "inputWidgets": {},
     "nuid": "eb8b9fd4-c1d1-4e6a-9bf6-29017cf7a6e8",
     "showTitle": false,
     "tableResultSettingsMap": {},
     "title": ""
    }
   },
   "outputs": [],
   "source": [
    "#spark.sql(\"CREATE CATALOG IF NOT EXISTS {}\".format(catalogo))"
   ]
  },
  {
   "cell_type": "code",
   "execution_count": 0,
   "metadata": {
    "application/vnd.databricks.v1+cell": {
     "cellMetadata": {
      "byteLimit": 2048000,
      "rowLimit": 10000
     },
     "inputWidgets": {},
     "nuid": "4e221099-4dd2-4fe1-961a-0496b9e5d0fa",
     "showTitle": false,
     "tableResultSettingsMap": {},
     "title": ""
    }
   },
   "outputs": [],
   "source": [
    "spark.sql(\"USE CATALOG {}\".format(catalogo))\n",
    "spark.sql(\"CREATE DATABASE IF NOT EXISTS {}\".format(db_plata))\n",
    "spark.sql(\"CREATE DATABASE IF NOT EXISTS {}\".format(db_oro))"
   ]
  },
  {
   "cell_type": "code",
   "execution_count": 0,
   "metadata": {
    "application/vnd.databricks.v1+cell": {
     "cellMetadata": {
      "byteLimit": 2048000,
      "rowLimit": 10000
     },
     "inputWidgets": {},
     "nuid": "9a1ce1e7-e245-48c8-87ca-313cedd804c1",
     "showTitle": false,
     "tableResultSettingsMap": {},
     "title": ""
    }
   },
   "outputs": [],
   "source": [
    "# Crear Volumen para almacenar los datos\n",
    "spark.sql(\"USE {}\".format(db_plata))\n",
    "spark.sql(\"CREATE VOLUME IF NOT EXISTS datos_fuente_inah\")"
   ]
  },
  {
   "cell_type": "code",
   "execution_count": 0,
   "metadata": {
    "application/vnd.databricks.v1+cell": {
     "cellMetadata": {
      "byteLimit": 2048000,
      "rowLimit": 10000
     },
     "inputWidgets": {},
     "nuid": "71da9fa3-91b4-44ba-a680-d29a62425664",
     "showTitle": false,
     "tableResultSettingsMap": {},
     "title": ""
    }
   },
   "outputs": [],
   "source": [
    "\n",
    "ruta_fuente= f\"/Volumes/pieroocampo/{db_plata}/datos_fuente_inah/inah_visitantes/\"\n",
    "#ruta_db=f\"abfss://datosfuente@{adls_name}.dfs.core.windows.net/DB\"\n",
    "# rutaplata = f\"{ruta_db}/{db_plata}/inahdetalle\"\n",
    "# rutaoro = f\"{ruta_db}/{db_oro}\"\n",
    "# spark.conf.set(f\"fs.azure.account.auth.type.{adls_name}.dfs.core.windows.net\", \"SAS\")\n",
    "# spark.conf.set(f\"fs.azure.sas.token.provider.type.{adls_name}.dfs.core.windows.net\", \"org.apache.hadoop.fs.azurebfs.sas.FixedSASTokenProvider\")\n",
    "# spark.conf.set(f\"fs.azure.sas.fixed.token.{adls_name}.dfs.core.windows.net\",sas)"
   ]
  },
  {
   "cell_type": "markdown",
   "metadata": {
    "application/vnd.databricks.v1+cell": {
     "cellMetadata": {
      "byteLimit": 2048000,
      "rowLimit": 10000
     },
     "inputWidgets": {},
     "nuid": "bcebeef2-5abc-4901-8613-d1ff2cc0e079",
     "showTitle": false,
     "tableResultSettingsMap": {},
     "title": ""
    }
   },
   "source": [
    "#Accediendo al lakehouse"
   ]
  },
  {
   "cell_type": "code",
   "execution_count": 0,
   "metadata": {
    "application/vnd.databricks.v1+cell": {
     "cellMetadata": {
      "byteLimit": 2048000,
      "rowLimit": 10000
     },
     "inputWidgets": {},
     "nuid": "85a08c67-130f-46dd-a2c6-b2a48557d0de",
     "showTitle": true,
     "tableResultSettingsMap": {},
     "title": "Listando contenido en la carpeta de datos fuente"
    }
   },
   "outputs": [],
   "source": [
    "display(dbutils.fs.ls(ruta_fuente))"
   ]
  },
  {
   "cell_type": "code",
   "execution_count": 0,
   "metadata": {
    "application/vnd.databricks.v1+cell": {
     "cellMetadata": {
      "byteLimit": 2048000,
      "rowLimit": 10000
     },
     "inputWidgets": {},
     "nuid": "3fd0d512-d836-4624-9993-a55beabff9fa",
     "showTitle": true,
     "tableResultSettingsMap": {},
     "title": "Revisando el contenido de un csv"
    }
   },
   "outputs": [],
   "source": [
    "dbutils.fs.head(f\"{ruta_fuente}inah_visitantes_detallado_anual_2020.csv\")"
   ]
  },
  {
   "cell_type": "code",
   "execution_count": 0,
   "metadata": {
    "application/vnd.databricks.v1+cell": {
     "cellMetadata": {
      "byteLimit": 2048000,
      "rowLimit": 10000
     },
     "inputWidgets": {},
     "nuid": "51f0bc78-4839-430a-b6a4-c9e93ec6085d",
     "showTitle": true,
     "tableResultSettingsMap": {},
     "title": "Cargando el contenido"
    }
   },
   "outputs": [],
   "source": [
    "dfDatosCrudos = ( spark.read\n",
    "                 .format(\"csv\")\n",
    "                 .option(\"header\",\"true\")\n",
    "                 .option(\"inferSchema\",\"true\")\n",
    "                 .load(ruta_fuente)\n",
    "\n",
    ")"
   ]
  },
  {
   "cell_type": "code",
   "execution_count": 0,
   "metadata": {
    "application/vnd.databricks.v1+cell": {
     "cellMetadata": {
      "byteLimit": 2048000,
      "rowLimit": 10000
     },
     "inputWidgets": {},
     "nuid": "b90b857e-5fbb-4c38-be6c-2b669c4d8902",
     "showTitle": true,
     "tableResultSettingsMap": {},
     "title": "Revisemos el contenido"
    }
   },
   "outputs": [],
   "source": [
    "display(dfDatosCrudos.limit(30))"
   ]
  },
  {
   "cell_type": "markdown",
   "metadata": {
    "application/vnd.databricks.v1+cell": {
     "cellMetadata": {
      "byteLimit": 2048000,
      "rowLimit": 10000
     },
     "inputWidgets": {},
     "nuid": "38d19bd0-9353-4619-9a38-a7dadebea859",
     "showTitle": false,
     "tableResultSettingsMap": {},
     "title": ""
    }
   },
   "source": [
    "\n",
    "#Arquitectura de medallón\n",
    "La arquitectura de medallón se refiere a la etapa de la calidad de datos:\n",
    "* **Bronce**: Son los datos crudos tal y como llegan de origen.\n",
    "* **Plata**: Son los datos refindos para el primer consumo y consulta. Se alimenta de etapa Bronce\n",
    "* **Oro**: Son los modelos de datos orientados a negocio e inteligencia de negocio. Se alimentan de etapa Plata\n",
    "    "
   ]
  },
  {
   "cell_type": "markdown",
   "metadata": {
    "application/vnd.databricks.v1+cell": {
     "cellMetadata": {
      "byteLimit": 2048000,
      "rowLimit": 10000
     },
     "inputWidgets": {},
     "nuid": "65ffafa0-ab55-4b8a-b900-3b8a059608c0",
     "showTitle": false,
     "tableResultSettingsMap": {},
     "title": ""
    }
   },
   "source": [
    "##Plata"
   ]
  },
  {
   "cell_type": "code",
   "execution_count": 0,
   "metadata": {
    "application/vnd.databricks.v1+cell": {
     "cellMetadata": {
      "byteLimit": 2048000,
      "rowLimit": 10000
     },
     "inputWidgets": {},
     "nuid": "6d0e4832-365e-4ba0-8ea6-ec22eff2bfde",
     "showTitle": true,
     "tableResultSettingsMap": {},
     "title": "Generemos un esquema"
    }
   },
   "outputs": [],
   "source": [
    "\n",
    "esquema = (StructType([StructField(\"Estado\",StringType(),True), \n",
    "     StructField(\"Clave_SIINAH\",StringType(),True), \n",
    "     StructField(\"Siglas\",StringType(),True),\n",
    "     StructField(\"Centro_de_trabajo\",StringType(),True),\n",
    "     StructField(\"Anio\",StringType(),True), \n",
    "     StructField(\"Mes\",StringType(),True),\n",
    "     StructField(\"Tipo_Visitantes\",StringType(),True), \n",
    "     StructField(\"Numero_visitas\",IntegerType(),True),\n",
    "     StructField(\"Nacionalidad\",StringType(),True)])\n",
    ")"
   ]
  },
  {
   "cell_type": "code",
   "execution_count": 0,
   "metadata": {
    "application/vnd.databricks.v1+cell": {
     "cellMetadata": {
      "byteLimit": 2048000,
      "rowLimit": 10000
     },
     "inputWidgets": {},
     "nuid": "a241aae9-a75d-4dd7-9ac0-86e23d823886",
     "showTitle": false,
     "tableResultSettingsMap": {},
     "title": ""
    }
   },
   "outputs": [],
   "source": [
    "dfLimpieza =(spark.read.format(\"csv\")\n",
    " .option(\"header\",\"true\")\n",
    " .schema(esquema)\n",
    " .option(\"encoding\", \"ISO-8859-1\") #ANSI\n",
    " .load(ruta_fuente)\n",
    " )\n",
    "\n",
    "display(dfLimpieza.limit(30))"
   ]
  },
  {
   "cell_type": "code",
   "execution_count": 0,
   "metadata": {
    "application/vnd.databricks.v1+cell": {
     "cellMetadata": {
      "byteLimit": 2048000,
      "rowLimit": 10000
     },
     "inputWidgets": {},
     "nuid": "9ff59db4-90d3-4551-a330-06e6e899f254",
     "showTitle": false,
     "tableResultSettingsMap": {},
     "title": ""
    }
   },
   "outputs": [],
   "source": [
    "\n",
    "dfLimpieza.write.mode(\"overwrite\").saveAsTable(f\"{catalogo}.{db_plata}.inah_detalle\")"
   ]
  },
  {
   "cell_type": "code",
   "execution_count": 0,
   "metadata": {
    "application/vnd.databricks.v1+cell": {
     "cellMetadata": {
      "byteLimit": 2048000,
      "rowLimit": 10000
     },
     "inputWidgets": {},
     "nuid": "6814d56e-a03f-4179-a505-f1bcd57a5260",
     "showTitle": false,
     "tableResultSettingsMap": {},
     "title": ""
    }
   },
   "outputs": [],
   "source": [
    "display(spark.sql(f\"SELECT * FROM {catalogo}.{db_plata}.inah_detalle\"))"
   ]
  },
  {
   "cell_type": "markdown",
   "metadata": {
    "application/vnd.databricks.v1+cell": {
     "cellMetadata": {
      "byteLimit": 2048000,
      "rowLimit": 10000
     },
     "inputWidgets": {},
     "nuid": "326432b4-a83a-420c-ae79-b17eb45b23b7",
     "showTitle": false,
     "tableResultSettingsMap": {},
     "title": ""
    }
   },
   "source": [
    "##Oro"
   ]
  },
  {
   "cell_type": "code",
   "execution_count": 0,
   "metadata": {
    "application/vnd.databricks.v1+cell": {
     "cellMetadata": {
      "byteLimit": 2048000,
      "rowLimit": 10000
     },
     "inputWidgets": {},
     "nuid": "1edf9927-3d90-41d9-8b2d-290a7ba17973",
     "showTitle": false,
     "tableResultSettingsMap": {},
     "title": ""
    }
   },
   "outputs": [],
   "source": [
    "dfPlata= spark.table(f\"{catalogo}.{db_plata}.inah_detalle\")"
   ]
  },
  {
   "cell_type": "markdown",
   "metadata": {
    "application/vnd.databricks.v1+cell": {
     "cellMetadata": {
      "byteLimit": 2048000,
      "rowLimit": 10000
     },
     "inputWidgets": {},
     "nuid": "070329bf-a3fd-42bf-bbd7-8e74aa2f4c0e",
     "showTitle": false,
     "tableResultSettingsMap": {},
     "title": ""
    }
   },
   "source": [
    "###Inteligencia de negocio\n"
   ]
  },
  {
   "cell_type": "code",
   "execution_count": 0,
   "metadata": {
    "application/vnd.databricks.v1+cell": {
     "cellMetadata": {
      "byteLimit": 2048000,
      "rowLimit": 10000
     },
     "inputWidgets": {},
     "nuid": "6f0699fb-e548-4608-aff1-2e85b4eac147",
     "showTitle": false,
     "tableResultSettingsMap": {},
     "title": ""
    }
   },
   "outputs": [],
   "source": [
    "(dfPlata.groupBy(\"Estado\")\n",
    "    .sum(\"Numero_visitas\")\n",
    "    .withColumnRenamed(\"sum(Numero_visitas)\",\"Visitas\")\n",
    "    .write\n",
    "    .mode(\"overwrite\")\n",
    "    .saveAsTable(f\"{catalogo}.{db_oro}.ConteoEstado\")\n",
    ")"
   ]
  },
  {
   "cell_type": "code",
   "execution_count": 0,
   "metadata": {
    "application/vnd.databricks.v1+cell": {
     "cellMetadata": {
      "byteLimit": 2048000,
      "rowLimit": 10000
     },
     "inputWidgets": {},
     "nuid": "f1aa0252-472a-42e2-8488-bfc062c6fb4d",
     "showTitle": false,
     "tableResultSettingsMap": {},
     "title": ""
    }
   },
   "outputs": [],
   "source": [
    "display(spark.sql(f\"SELECT * FROM {catalogo}.{db_oro}.ConteoEstado\"))"
   ]
  },
  {
   "cell_type": "code",
   "execution_count": 0,
   "metadata": {
    "application/vnd.databricks.v1+cell": {
     "cellMetadata": {
      "byteLimit": 2048000,
      "rowLimit": 10000
     },
     "inputWidgets": {},
     "nuid": "f1fc02ce-c7d7-4597-9c9f-a8f004178862",
     "showTitle": false,
     "tableResultSettingsMap": {},
     "title": ""
    }
   },
   "outputs": [],
   "source": [
    "(\n",
    "        dfPlata.groupBy(\"Centro_de_trabajo\").sum(\"Numero_visitas\").withColumnRenamed(\"sum(Numero_visitas)\",\"Visitas\")\n",
    "        .write\n",
    "        .mode(\"overwrite\")\n",
    "        .saveAsTable(f\"{catalogo}.{db_oro}.ConteoCentroTrabajo\")\n",
    ")"
   ]
  },
  {
   "cell_type": "code",
   "execution_count": 0,
   "metadata": {
    "application/vnd.databricks.v1+cell": {
     "cellMetadata": {
      "byteLimit": 2048000,
      "rowLimit": 10000
     },
     "inputWidgets": {},
     "nuid": "f160b068-5a36-4bab-b36e-e976c5c27e7c",
     "showTitle": false,
     "tableResultSettingsMap": {},
     "title": ""
    }
   },
   "outputs": [],
   "source": [
    "display(spark.sql(f\"SELECT * FROM {catalogo}.{db_oro}.ConteoCentroTrabajo\"))"
   ]
  },
  {
   "cell_type": "code",
   "execution_count": 0,
   "metadata": {
    "application/vnd.databricks.v1+cell": {
     "cellMetadata": {
      "byteLimit": 2048000,
      "rowLimit": 10000
     },
     "inputWidgets": {},
     "nuid": "8b7dce68-7c4a-4cb0-8241-ea1532943e71",
     "showTitle": false,
     "tableResultSettingsMap": {},
     "title": ""
    }
   },
   "outputs": [],
   "source": [
    "(\n",
    "    dfPlata.groupBy(\"Nacionalidad\").sum(\"Numero_visitas\").withColumnRenamed(\"sum(Numero_visitas)\",\"Visitas\")\n",
    "        .write\n",
    "        .mode(\"overwrite\")\n",
    "        .saveAsTable(f\"{catalogo}.{db_oro}.ConteoNacionalidad\") \n",
    ")"
   ]
  },
  {
   "cell_type": "code",
   "execution_count": 0,
   "metadata": {
    "application/vnd.databricks.v1+cell": {
     "cellMetadata": {
      "byteLimit": 2048000,
      "rowLimit": 10000
     },
     "inputWidgets": {},
     "nuid": "92ec6256-5b86-42d4-a666-e862f1c9152f",
     "showTitle": false,
     "tableResultSettingsMap": {},
     "title": ""
    }
   },
   "outputs": [],
   "source": [
    "display(spark.sql(f\"SELECT * FROM {catalogo}.{db_oro}.ConteoNacionalidad\"))"
   ]
  },
  {
   "cell_type": "code",
   "execution_count": 0,
   "metadata": {
    "application/vnd.databricks.v1+cell": {
     "cellMetadata": {
      "byteLimit": 2048000,
      "rowLimit": 10000
     },
     "inputWidgets": {},
     "nuid": "de856de1-405a-43a3-9dd6-a95f791c3933",
     "showTitle": false,
     "tableResultSettingsMap": {},
     "title": ""
    }
   },
   "outputs": [],
   "source": [
    "(\n",
    "    dfPlata.groupBy(\"Anio\",\"Mes\").sum(\"Numero_visitas\").orderBy(\"Anio\").withColumnRenamed(\"sum(Numero_visitas)\",\"Visitas\")\n",
    "        .write\n",
    "        .mode(\"overwrite\")\n",
    "        .saveAsTable(f\"{catalogo}.{db_oro}.ConteoAnioMes\")\n",
    ")"
   ]
  },
  {
   "cell_type": "code",
   "execution_count": 0,
   "metadata": {
    "application/vnd.databricks.v1+cell": {
     "cellMetadata": {
      "byteLimit": 2048000,
      "rowLimit": 10000
     },
     "inputWidgets": {},
     "nuid": "66888e71-e901-43ce-8276-370619ebc697",
     "showTitle": false,
     "tableResultSettingsMap": {},
     "title": ""
    }
   },
   "outputs": [],
   "source": [
    "display(spark.sql(f\"SELECT * FROM {catalogo}.{db_oro}.ConteoAnioMes\"))"
   ]
  },
  {
   "cell_type": "code",
   "execution_count": 0,
   "metadata": {
    "application/vnd.databricks.v1+cell": {
     "cellMetadata": {
      "byteLimit": 2048000,
      "rowLimit": 10000
     },
     "inputWidgets": {},
     "nuid": "62a836a0-967e-4ec8-a48a-880e359183f1",
     "showTitle": false,
     "tableResultSettingsMap": {},
     "title": ""
    }
   },
   "outputs": [],
   "source": []
  }
 ],
 "metadata": {
  "application/vnd.databricks.v1+notebook": {
   "computePreferences": null,
   "dashboards": [],
   "environmentMetadata": null,
   "inputWidgetPreferences": null,
   "language": "python",
   "notebookMetadata": {
    "mostRecentlyExecutedCommandWithImplicitDF": {
     "commandId": -1,
     "dataframes": [
      "_sqldf"
     ]
    },
    "pythonIndentUnit": 4
   },
   "notebookName": "MDWH_Workshop",
   "widgets": {}
  },
  "language_info": {
   "name": "python"
  }
 },
 "nbformat": 4,
 "nbformat_minor": 0
}
